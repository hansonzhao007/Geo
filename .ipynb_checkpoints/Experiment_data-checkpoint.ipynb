{
 "cells": [
  {
   "cell_type": "code",
   "execution_count": 206,
   "metadata": {},
   "outputs": [],
   "source": [
    "import folium\n",
    "from folium import plugins\n",
    "import numpy as np\n",
    "import pandas as pd\n",
    "import random\n",
    "import json\n",
    "import pprint as pp\n",
    "import seaborn as sns\n",
    "from pandas.io.json import json_normalize\n",
    "import matplotlib.pyplot as plt\n",
    "from matplotlib.ticker import MultipleLocator, FormatStrFormatter  \n",
    "from mpl_toolkits.axes_grid1.inset_locator import zoomed_inset_axes\n",
    "from mpl_toolkits.axes_grid1.inset_locator import mark_inset\n",
    "import plotly.plotly as py\n",
    "import plotly.graph_objs as go\n",
    "import scipy"
   ]
  },
  {
   "cell_type": "code",
   "execution_count": 210,
   "metadata": {},
   "outputs": [
    {
     "data": {
      "image/png": "[encoded data removed]",
      "text/plain": [
       "<matplotlib.figure.Figure at 0x1a2d667f98>"
      ]
     },
     "metadata": {},
     "output_type": "display_data"
    }
   ],
   "source": [
    "\n",
    "csv_file = r'../s2/Experiment_data/query_num_roadid.txt'\n",
    "query_num_roadid = pd.read_csv(csv_file,header=None)\n",
    "query_num_roadid.columns = [['query_num']]\n",
    "\n",
    "\n",
    "ax1 = plt.subplot(211)\n",
    "sns.boxplot(query_num_roadid['query_num'], \n",
    "            palette=\"Set2\",\n",
    "            linewidth=1.0,\n",
    "            fliersize=1,\n",
    "            saturation=0.9\n",
    "           )\n",
    "\n",
    "\n",
    "csv_file = r'../s2/Experiment_data/query_num_cellid.txt'\n",
    "query_num_cellid = pd.read_csv(csv_file,header=None)\n",
    "query_num_cellid.columns = [['query_num']]\n",
    "\n",
    "ax2 = plt.subplot(212, sharex=ax1)\n",
    "sns.boxplot(query_num_cellid['query_num'], \n",
    "            palette=\"Set2\",\n",
    "            linewidth=1.0,\n",
    "            fliersize=1,\n",
    "            saturation=0.9\n",
    "           )\n",
    "\n",
    "plt.savefig(\"../s2/Experiment_data/boxplot_query_ranges.png\", dpi=600);"
   ]
  },
  {
   "cell_type": "code",
   "execution_count": 212,
   "metadata": {},
   "outputs": [
    {
     "name": "stdout",
     "output_type": "stream",
     "text": [
      "total road query:  176020\n",
      "total road query time: 148241.078 ms\n",
      "total road records: 51984205\n",
      "total road query:  1014180\n",
      "total cell query time: 162303.45700000002 ms\n",
      "total cell records: 54567861\n"
     ]
    },
    {
     "data": {
      "image/png": "[encoded data removed]",
      "text/plain": [
       "<matplotlib.figure.Figure at 0x1a2efb1cc0>"
      ]
     },
     "metadata": {},
     "output_type": "display_data"
    }
   ],
   "source": [
    "csv_file = r'../s2/Experiment_data/query_res_roadid.txt'\n",
    "query_res_roadid = pd.read_csv(csv_file,header=None)\n",
    "query_res_roadid.columns = [['time','records']]\n",
    "\n",
    "# print(query_res_roadid.sample(50))\n",
    "fig.set_size_inches(22,4.27)\n",
    "ax1 = plt.subplot(211)\n",
    "sns.boxplot(query_res_roadid['time'])\n",
    "\n",
    "\n",
    "csv_file = r'../s2/Experiment_data/query_res_cellid.txt'\n",
    "query_res_cellid = pd.read_csv(csv_file,header=None)\n",
    "query_res_cellid.columns = [['time','records']]\n",
    "query_res_cellid[['time','records']] = query_res_cellid[['time','records']].apply(pd.to_numeric)\n",
    "ax2 = plt.subplot(212, sharex=ax1)\n",
    "sns.boxplot(query_res_cellid['time'])\n",
    "\n",
    "print(\"total road query: \",query_num_roadid['query_num'].sum().item())\n",
    "print(\"total road query time:\", query_res_roadid['time'].sum().item(), 'ms')\n",
    "print(\"total road records:\", query_res_roadid['records'].sum().item())\n",
    "\n",
    "print(\"total road query: \",query_num_cellid['query_num'].sum().item())\n",
    "print(\"total cell query time:\", query_res_cellid['time'].sum().item(), 'ms')\n",
    "print(\"total cell records:\", query_res_cellid['records'].sum().item())\n"
   ]
  },
  {
   "cell_type": "code",
   "execution_count": null,
   "metadata": {},
   "outputs": [],
   "source": []
  },
  {
   "cell_type": "code",
   "execution_count": null,
   "metadata": {},
   "outputs": [],
   "source": []
  },
  {
   "cell_type": "code",
   "execution_count": null,
   "metadata": {},
   "outputs": [],
   "source": []
  }
 ],
 "metadata": {
  "kernelspec": {
   "display_name": "Python 3",
   "language": "python",
   "name": "python3"
  },
  "language_info": {
   "codemirror_mode": {
    "name": "ipython",
    "version": 3
   },
   "file_extension": ".py",
   "mimetype": "text/x-python",
   "name": "python",
   "nbconvert_exporter": "python",
   "pygments_lexer": "ipython3",
   "version": "3.5.4"
  }
 },
 "nbformat": 4,
 "nbformat_minor": 2
}

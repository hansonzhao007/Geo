{
 "cells": [
  {
   "cell_type": "code",
   "execution_count": 18,
   "metadata": {},
   "outputs": [],
   "source": [
    "import folium\n",
    "from folium import plugins\n",
    "import pandas as pd\n",
    "import random"
   ]
  },
  {
   "cell_type": "code",
   "execution_count": 19,
   "metadata": {},
   "outputs": [
    {
     "name": "stdout",
     "output_type": "stream",
     "text": [
      "      VendorID tpep_pickup_datetime tpep_dropoff_datetime  passenger_count  \\\n",
      "6831         1  2015-12-03 00:36:07   2015-12-03 00:54:17                1   \n",
      "8080         1  2015-12-03 11:35:30   2015-12-03 11:49:08                1   \n",
      "9611         2  2015-12-01 09:25:21   2015-12-01 09:57:36                1   \n",
      "9411         1  2015-12-01 08:23:52   2015-12-01 08:48:17                1   \n",
      "2793         2  2015-12-01 23:30:59   2015-12-01 23:39:43                4   \n",
      "\n",
      "      trip_distance  pickup_longitude  pickup_latitude  RatecodeID  \\\n",
      "6831           4.70        -74.004349        40.730770           1   \n",
      "8080           2.80        -73.980629        40.754040           1   \n",
      "9611           3.04        -73.989990        40.776100           1   \n",
      "9411           2.40        -73.956261        40.786865           1   \n",
      "2793           1.62        -73.989731        40.741550           1   \n",
      "\n",
      "     store_and_fwd_flag  dropoff_longitude  dropoff_latitude  payment_type  \\\n",
      "6831                  N         -73.955124         40.772545             1   \n",
      "8080                  N         -73.952293         40.778301             1   \n",
      "9611                  N         -73.985649         40.741192             1   \n",
      "9411                  N         -73.978661         40.756302             1   \n",
      "2793                  N         -74.010262         40.731171             2   \n",
      "\n",
      "      fare_amount  extra  mta_tax  tip_amount  tolls_amount  \\\n",
      "6831         17.0    0.5      0.5        2.00           0.0   \n",
      "8080         11.5    0.0      0.5        1.23           0.0   \n",
      "9611         20.0    0.0      0.5        3.00           0.0   \n",
      "9411         15.5    0.0      0.5        3.25           0.0   \n",
      "2793          8.0    0.5      0.5        0.00           0.0   \n",
      "\n",
      "      improvement_surcharge  total_amount  \n",
      "6831                    0.3         20.30  \n",
      "8080                    0.3         13.53  \n",
      "9611                    0.3         23.80  \n",
      "9411                    0.3         19.55  \n",
      "2793                    0.3          9.30  \n",
      "<class 'pandas.core.frame.DataFrame'>\n",
      "RangeIndex: 10000 entries, 0 to 9999\n",
      "Data columns (total 19 columns):\n",
      "VendorID                 10000 non-null int64\n",
      "tpep_pickup_datetime     10000 non-null object\n",
      "tpep_dropoff_datetime    10000 non-null object\n",
      "passenger_count          10000 non-null int64\n",
      "trip_distance            10000 non-null float64\n",
      "pickup_longitude         10000 non-null float64\n",
      "pickup_latitude          10000 non-null float64\n",
      "RatecodeID               10000 non-null int64\n",
      "store_and_fwd_flag       10000 non-null object\n",
      "dropoff_longitude        10000 non-null float64\n",
      "dropoff_latitude         10000 non-null float64\n",
      "payment_type             10000 non-null int64\n",
      "fare_amount              10000 non-null float64\n",
      "extra                    10000 non-null float64\n",
      "mta_tax                  10000 non-null float64\n",
      "tip_amount               10000 non-null float64\n",
      "tolls_amount             10000 non-null float64\n",
      "improvement_surcharge    10000 non-null float64\n",
      "total_amount             10000 non-null float64\n",
      "dtypes: float64(12), int64(4), object(3)\n",
      "memory usage: 1.4+ MB\n"
     ]
    }
   ],
   "source": [
    "# http://www.nyc.gov/html/tlc/html/about/trip_record_data.shtml\n",
    "p = 0.01\n",
    "data = pd.read_csv('./yellow_tripdata_2015-12.csv', \n",
    "                   nrows=10000, \n",
    "                   skiprows=lambda i: i>0 and random.random() > p)\n",
    "\n",
    "print(data.sample(5))\n",
    "data.info()"
   ]
  },
  {
   "cell_type": "code",
   "execution_count": 20,
   "metadata": {},
   "outputs": [],
   "source": [
    "# latitude, longitude\n",
    "location = [40.783939, -73.979752]\n",
    "m = folium.Map(location, zoom_start=11)"
   ]
  },
  {
   "cell_type": "code",
   "execution_count": 27,
   "metadata": {},
   "outputs": [],
   "source": [
    "geo = r'GeojsonGraphData/split_edges.json'\n",
    "\n",
    "#Let Folium determine the scale\n",
    "roads = folium.GeoJson(\n",
    "    geo,\n",
    "    style_function=lambda feature: {\n",
    "        'fillColor': '#00ff00',\n",
    "        'color': 'black',\n",
    "        'weight': 0.5,\n",
    "        'dashArray': '5, 5',\n",
    "        'fillOpacity': 0.5,\n",
    "    }\n",
    ")"
   ]
  },
  {
   "cell_type": "code",
   "execution_count": 48,
   "metadata": {},
   "outputs": [],
   "source": [
    "data['pickup_latitude'] = data['pickup_latitude'].astype(float)\n",
    "data['pickup_longitude'] = data['pickup_longitude'].astype(float)\n",
    "\n",
    "heat_data = [[row['pickup_latitude'],row['pickup_longitude']] for index, row in data.iterrows()]\n",
    "\n",
    "\n",
    "heat_map = plugins.HeatMap(heat_data, \n",
    "                           radius = 7,\n",
    "                           min_opacity = 0.5,\n",
    "                           blur=15,\n",
    "                           #max_zoom=1\n",
    "                          )\n",
    "m.add_child(heat_map)\n",
    "m.save('nyu.html')"
   ]
  },
  {
   "cell_type": "code",
   "execution_count": 28,
   "metadata": {},
   "outputs": [],
   "source": [
    "m.add_child(roads)\n",
    "m.save('nyu_with_roads.html')"
   ]
  },
  {
   "cell_type": "code",
   "execution_count": null,
   "metadata": {},
   "outputs": [],
   "source": []
  },
  {
   "cell_type": "code",
   "execution_count": null,
   "metadata": {},
   "outputs": [],
   "source": []
  }
 ],
 "metadata": {
  "kernelspec": {
   "display_name": "Python 3",
   "language": "python",
   "name": "python3"
  },
  "language_info": {
   "codemirror_mode": {
    "name": "ipython",
    "version": 3
   },
   "file_extension": ".py",
   "mimetype": "text/x-python",
   "name": "python",
   "nbconvert_exporter": "python",
   "pygments_lexer": "ipython3",
   "version": "3.5.4"
  }
 },
 "nbformat": 4,
 "nbformat_minor": 2
}

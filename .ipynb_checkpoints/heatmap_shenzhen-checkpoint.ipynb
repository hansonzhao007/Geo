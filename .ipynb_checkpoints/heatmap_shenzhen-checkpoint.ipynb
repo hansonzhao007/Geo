{
 "cells": [
  {
   "cell_type": "code",
   "execution_count": 1,
   "metadata": {},
   "outputs": [],
   "source": [
    "import folium\n",
    "from folium import plugins\n",
    "import numpy as np\n",
    "import pandas as pd\n",
    "import random\n",
    "import json\n",
    "import pprint as pp\n",
    "import seaborn as sns\n",
    "from pandas.io.json import json_normalize\n",
    "import matplotlib.pyplot as plt\n",
    "from matplotlib.ticker import MultipleLocator, FormatStrFormatter  \n",
    "from mpl_toolkits.axes_grid1.inset_locator import zoomed_inset_axes\n",
    "from mpl_toolkits.axes_grid1.inset_locator import mark_inset"
   ]
  },
  {
   "cell_type": "code",
   "execution_count": 3,
   "metadata": {},
   "outputs": [],
   "source": [
    "p = 0.01\n",
    "# csv_file = '../s2/carid_distribution.txt'\n",
    "csv_file = r'../s2/GPS_2016_11_01_cellid'\n",
    "data = pd.read_csv(csv_file, \n",
    "                   nrows=100000, \n",
    "                   skiprows=lambda i: i>0 and random.random() > p, header=None\n",
    "                  )\n",
    "drop_colums = [7,8,9,10,12]\n",
    "data.drop(data.columns[drop_colums],axis=1,inplace=True)\n",
    "data.columns = ['Taxi_ID','Longitude','Latitude','Timestamp','Device_ID','Velocity','Orientation','Taxi_Color',\"\"]\n",
    "# latitude, longitude\n",
    "location = [22.618864, 114.027283]\n",
    "m = folium.Map(location, zoom_start=11, tiles='Stamen Toner')\n",
    "\n",
    "data['Latitude'] = data['Latitude'].astype(float)\n",
    "data['Longitude'] = data['Longitude'].astype(float)\n",
    "heat_data = [[row['Latitude'],row['Longitude']] for index, row in data.iterrows()]\n",
    "heat_map = plugins.HeatMap(heat_data, \n",
    "                           radius = 7,\n",
    "                           min_opacity = 0.5,\n",
    "                           blur=15,\n",
    "                           #max_zoom=1\n",
    "                          )\n",
    "m.add_child(heat_map)\n",
    "m.save('shenzhen.html')\n",
    "\n",
    "# m.add_child(roads)\n",
    "# m.save('shenzhen_with_roads.html')"
   ]
  },
  {
   "cell_type": "code",
   "execution_count": null,
   "metadata": {},
   "outputs": [],
   "source": []
  }
 ],
 "metadata": {
  "kernelspec": {
   "display_name": "Python 3",
   "language": "python",
   "name": "python3"
  },
  "language_info": {
   "codemirror_mode": {
    "name": "ipython",
    "version": 3
   },
   "file_extension": ".py",
   "mimetype": "text/x-python",
   "name": "python",
   "nbconvert_exporter": "python",
   "pygments_lexer": "ipython3",
   "version": "3.5.4"
  }
 },
 "nbformat": 4,
 "nbformat_minor": 2
}

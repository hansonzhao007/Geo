{
 "cells": [
  {
   "cell_type": "code",
   "execution_count": 9,
   "metadata": {},
   "outputs": [],
   "source": [
    "import json\n",
    "import pprint\n",
    "import pandas as pd\n",
    "import random\n",
    "\n",
    "# [longitude, latitude]\n",
    "def new_point(a,b,c,time=\"2016-11-01 02:53:08\",carid=\"0\"):\n",
    "    point = {}\n",
    "    point['type'] = 'Feature'\n",
    "    geometry = {}\n",
    "    geometry['type'] = 'Point'\n",
    "    geometry['coordinates'] = [a,b]\n",
    "    point['geometry'] = geometry\n",
    "    point['carid'] = carid\n",
    "    point['timestamp'] = time\n",
    "    return point\n",
    "\n",
    "def save_to_json(ifile,ofile,t):\n",
    "    points = {}\n",
    "    points['type'] = 'FeatureCollection'\n",
    "    points['features'] = []\n",
    "    p = 0.01\n",
    "    data = pd.read_csv(ifile, \n",
    "                       nrows=100000, \n",
    "#                        skiprows=lambda i: i>0 and random.random() > p\n",
    "                      )\n",
    "    if t == 'nyu':\n",
    "        data['pickup_latitude']  = data['pickup_latitude'].astype(float)\n",
    "        data['pickup_longitude'] = data['pickup_longitude'].astype(float)\n",
    "        \n",
    "        for index, row in data.iterrows():\n",
    "            points['features'].append(new_point(row['pickup_longitude'],row['pickup_latitude'],'nyu'))\n",
    "        print(len(points['features']),\" points\")\n",
    "        with open(ofile, 'w') as outfile:  \n",
    "            json.dump(points,outfile, indent=4)\n",
    "\n",
    "    if t == 'shenzhen':  \n",
    "        drop_colums = [12]\n",
    "        data.drop(data.columns[drop_colums],axis=1,inplace=True)\n",
    "        data.columns = ['Taxi_ID','Longitude','Latitude','Timestamp','Device_ID','Velocity','Orientation','Q','Warning','Card_No','State','Taxi_Color']\n",
    "        \n",
    "        for index, row in data.iterrows():\n",
    "            if row['Longitude'] <= 180 and row['Longitude'] >= -180 and row['Latitude'] <= 90 and row['Latitude'] >= -90:\n",
    "                points['features'].append(new_point(row['Longitude'],row['Latitude'],'shenzhen', row['Timestamp'],row['Taxi_ID']))\n",
    "        print(len(points['features']),\" points\")\n",
    "        \n",
    "        with open(ofile, 'w') as outfile:  \n",
    "            json.dump(points,outfile, indent=4)"
   ]
  },
  {
   "cell_type": "code",
   "execution_count": 2,
   "metadata": {},
   "outputs": [
    {
     "name": "stdout",
     "output_type": "stream",
     "text": [
      "1000  points\n"
     ]
    }
   ],
   "source": [
    "save_to_json('./yellow_tripdata_2015-12.csv','GeojsonGraphData/taxi_point_nyu_yellow.json', 'nyu')"
   ]
  },
  {
   "cell_type": "code",
   "execution_count": 10,
   "metadata": {},
   "outputs": [
    {
     "name": "stdout",
     "output_type": "stream",
     "text": [
      "9991  points\n"
     ]
    }
   ],
   "source": [
    "save_to_json('../s2/GPS_2016_11_01','GeojsonGraphData/taxi_point_shenzhen.json','shenzhen')"
   ]
  },
  {
   "cell_type": "code",
   "execution_count": null,
   "metadata": {},
   "outputs": [],
   "source": []
  },
  {
   "cell_type": "code",
   "execution_count": null,
   "metadata": {},
   "outputs": [],
   "source": []
  }
 ],
 "metadata": {
  "kernelspec": {
   "display_name": "Python 3",
   "language": "python",
   "name": "python3"
  },
  "language_info": {
   "codemirror_mode": {
    "name": "ipython",
    "version": 3
   },
   "file_extension": ".py",
   "mimetype": "text/x-python",
   "name": "python",
   "nbconvert_exporter": "python",
   "pygments_lexer": "ipython3",
   "version": "3.5.4"
  }
 },
 "nbformat": 4,
 "nbformat_minor": 2
}

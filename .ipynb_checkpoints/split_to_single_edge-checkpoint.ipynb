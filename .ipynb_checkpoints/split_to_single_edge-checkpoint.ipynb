{
 "cells": [
  {
   "cell_type": "code",
   "execution_count": 54,
   "metadata": {},
   "outputs": [],
   "source": [
    "import folium\n",
    "from folium import plugins\n",
    "import pandas as pd\n",
    "import random\n",
    "import json\n",
    "import pprint\n",
    "\n",
    "def new_edge(a,b):\n",
    "    edge = {}\n",
    "    edge['type'] = 'Feature'\n",
    "    geometry = {}\n",
    "    geometry['type'] = 'LineString'\n",
    "    geometry['coordinates'] = [a,b]\n",
    "    edge['geometry'] = geometry\n",
    "    return edge\n",
    "\n",
    "def split_edges(ifile,ofile):\n",
    "    s_edges = {}\n",
    "    s_edges['type'] = 'FeatureCollection'\n",
    "    s_edges['features'] = []\n",
    "    feature_num = 0\n",
    "    feature_col_num = 0\n",
    "    with open(ifile) as f:\n",
    "        data = json.load(f)\n",
    "\n",
    "    for feature in data['features']:\n",
    "        if feature['type'] == 'Feature':\n",
    "            if feature['geometry']['type'] == 'LineString':  \n",
    "                ++feature_num\n",
    "                for i in range(len(feature['geometry']['coordinates'])-1):\n",
    "                    s_edges['features'].append(new_edge(\n",
    "                        feature['geometry']['coordinates'][i],\n",
    "                        feature['geometry']['coordinates'][i+1])\n",
    "                    )\n",
    "        elif feature['type'] == 'FeatureCollection':\n",
    "            ++feature_col_num\n",
    "            for sub_feature in feature['features']:\n",
    "                if sub_feature['geometry']['type'] == 'LineString':\n",
    "    #                 print (sub_feature['geometry']['coordinates'])\n",
    "                    for i in range(len(sub_feature['geometry']['coordinates'])-1):\n",
    "                        s_edges['features'].append(new_edge(\n",
    "                            sub_feature['geometry']['coordinates'][i],\n",
    "                            sub_feature['geometry']['coordinates'][i+1])\n",
    "                        )\n",
    "                \n",
    "    print(len(s_edges['features']),\" edges\")\n",
    "    with open(ofile, 'w') as outfile:  \n",
    "        json.dump(s_edges,outfile, indent=4)\n",
    "    \n",
    "\n"
   ]
  },
  {
   "cell_type": "code",
   "execution_count": 51,
   "metadata": {},
   "outputs": [
    {
     "name": "stdout",
     "output_type": "stream",
     "text": [
      "93020  edges\n"
     ]
    }
   ],
   "source": [
    "split_edges('GeojsonGraphData/nyu_nodes_ways_relations.json','GeojsonGraphData/nyu_split_edges.json')\n"
   ]
  },
  {
   "cell_type": "code",
   "execution_count": 55,
   "metadata": {},
   "outputs": [
    {
     "name": "stdout",
     "output_type": "stream",
     "text": [
      "399178  edges\n"
     ]
    }
   ],
   "source": [
    "split_edges('GeojsonGraphData/nyu_nodes_small.json','GeojsonGraphData/nyu_small_split.json')\n"
   ]
  },
  {
   "cell_type": "code",
   "execution_count": null,
   "metadata": {},
   "outputs": [],
   "source": []
  }
 ],
 "metadata": {
  "kernelspec": {
   "display_name": "Python 3",
   "language": "python",
   "name": "python3"
  },
  "language_info": {
   "codemirror_mode": {
    "name": "ipython",
    "version": 3
   },
   "file_extension": ".py",
   "mimetype": "text/x-python",
   "name": "python",
   "nbconvert_exporter": "python",
   "pygments_lexer": "ipython3",
   "version": "3.5.4"
  }
 },
 "nbformat": 4,
 "nbformat_minor": 2
}

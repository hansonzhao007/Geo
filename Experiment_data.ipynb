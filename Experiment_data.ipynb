{
 "cells": [
  {
   "cell_type": "code",
   "execution_count": 206,
   "metadata": {},
   "outputs": [],
   "source": [
    "import folium\n",
    "from folium import plugins\n",
    "import numpy as np\n",
    "import pandas as pd\n",
    "import random\n",
    "import json\n",
    "import pprint as pp\n",
    "import seaborn as sns\n",
    "from pandas.io.json import json_normalize\n",
    "import matplotlib.pyplot as plt\n",
    "from matplotlib.ticker import MultipleLocator, FormatStrFormatter  \n",
    "from mpl_toolkits.axes_grid1.inset_locator import zoomed_inset_axes\n",
    "from mpl_toolkits.axes_grid1.inset_locator import mark_inset\n",
    "import plotly.plotly as py\n",
    "import plotly.graph_objs as go\n",
    "import scipy"
   ]
  },
  {
   "cell_type": "code",
   "execution_count": 216,
   "metadata": {},
   "outputs": [
    {
     "data": {
      "image/png": "[encoded data removed]",
      "text/plain": [
       "<matplotlib.figure.Figure at 0x1a2fddd278>"
      ]
     },
     "metadata": {},
     "output_type": "display_data"
    }
   ],
   "source": [
    "\n",
    "csv_file = r'../s2/Experiment_data/query_num_roadid.txt'\n",
    "query_num_roadid = pd.read_csv(csv_file,header=None)\n",
    "query_num_roadid.columns = [['query_num']]\n",
    "\n",
    "\n",
    "ax1 = plt.subplot(211)\n",
    "sns.boxplot(query_num_roadid['query_num'], \n",
    "            palette=\"Set2\",\n",
    "            linewidth=1.0,\n",
    "            fliersize=1,\n",
    "            saturation=0.9\n",
    "           )\n",
    "\n",
    "\n",
    "csv_file = r'../s2/Experiment_data/query_num_cellid.txt'\n",
    "query_num_cellid = pd.read_csv(csv_file,header=None)\n",
    "query_num_cellid.columns = [['query_num']]\n",
    "\n",
    "ax2 = plt.subplot(212, sharex=ax1)\n",
    "sns.boxplot(query_num_cellid['query_num'], \n",
    "            palette=\"Set2\",\n",
    "            linewidth=1.0,\n",
    "            fliersize=1,\n",
    "            saturation=0.9\n",
    "           )\n",
    "\n",
    "plt.savefig(\"../s2/Experiment_data/boxplot_query_ranges.png\", dpi=600);"
   ]
  },
  {
   "cell_type": "code",
   "execution_count": 217,
   "metadata": {},
   "outputs": [
    {
     "name": "stdout",
     "output_type": "stream",
     "text": [
      "total roads: 11282\n",
      "total road query:  99242 requests\n",
      "total road query time: 108718.016 ms\n",
      "total road records: 30912718\n",
      "total road query:  443483 requests\n",
      "total cell query time: 127973.071 ms\n",
      "total cell records: 39737931\n"
     ]
    },
    {
     "data": {
      "image/png": "[encoded data removed]",
      "text/plain": [
       "<matplotlib.figure.Figure at 0x1a2ed73cc0>"
      ]
     },
     "metadata": {},
     "output_type": "display_data"
    }
   ],
   "source": [
    "csv_file = r'../s2/Experiment_data/query_res_roadid.txt'\n",
    "query_res_roadid = pd.read_csv(csv_file,header=None)\n",
    "query_res_roadid.columns = [['time','records']]\n",
    "\n",
    "# print(query_res_roadid.sample(50))\n",
    "fig.set_size_inches(22,4.27)\n",
    "ax1 = plt.subplot(211)\n",
    "sns.boxplot(query_res_roadid['time'])\n",
    "\n",
    "\n",
    "csv_file = r'../s2/Experiment_data/query_res_cellid.txt'\n",
    "query_res_cellid = pd.read_csv(csv_file,header=None)\n",
    "query_res_cellid.columns = [['time','records']]\n",
    "query_res_cellid[['time','records']] = query_res_cellid[['time','records']].apply(pd.to_numeric)\n",
    "ax2 = plt.subplot(212, sharex=ax1)\n",
    "sns.boxplot(query_res_cellid['time'])\n",
    "\n",
    "print(\"total roads:\", len(query_num_roadid))\n",
    "print(\"total road query: \",query_num_roadid['query_num'].sum().item(), \"requests\")\n",
    "print(\"total road query time:\", query_res_roadid['time'].sum().item(), 'ms')\n",
    "print(\"total road records:\", query_res_roadid['records'].sum().item())\n",
    "\n",
    "print(\"total road query: \",query_num_cellid['query_num'].sum().item(), \"requests\")\n",
    "print(\"total cell query time:\", query_res_cellid['time'].sum().item(), 'ms')\n",
    "print(\"total cell records:\", query_res_cellid['records'].sum().item())\n"
   ]
  },
  {
   "cell_type": "code",
   "execution_count": null,
   "metadata": {},
   "outputs": [],
   "source": []
  },
  {
   "cell_type": "code",
   "execution_count": null,
   "metadata": {},
   "outputs": [],
   "source": []
  },
  {
   "cell_type": "code",
   "execution_count": null,
   "metadata": {},
   "outputs": [],
   "source": []
  }
 ],
 "metadata": {
  "kernelspec": {
   "display_name": "Python 3",
   "language": "python",
   "name": "python3"
  },
  "language_info": {
   "codemirror_mode": {
    "name": "ipython",
    "version": 3
   },
   "file_extension": ".py",
   "mimetype": "text/x-python",
   "name": "python",
   "nbconvert_exporter": "python",
   "pygments_lexer": "ipython3",
   "version": "3.5.4"
  }
 },
 "nbformat": 4,
 "nbformat_minor": 2
}

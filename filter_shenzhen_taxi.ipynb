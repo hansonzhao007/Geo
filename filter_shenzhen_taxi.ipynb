{
 "cells": [
  {
   "cell_type": "code",
   "execution_count": 22,
   "metadata": {},
   "outputs": [
    {
     "name": "stdout",
     "output_type": "stream",
     "text": [
      "80663\n"
     ]
    }
   ],
   "source": [
    "import pymongo\n",
    "import pprint as pp\n",
    "import json\n",
    "# Replace XXXX with your connection URI from the Atlas UI\n",
    "\n",
    "# mongodb:// is the protocol definition\n",
    "# localhost:27017 is the server we are connecting to\n",
    "# /myproject is the database we wish to connect to\n",
    "\n",
    "url = 'mongodb://localhost:27017/m201'\n",
    "client = pymongo.MongoClient(url)\n",
    "taxi = client['m201']['shenzhen_taxi']\n",
    "\n",
    "query = {\n",
    "    \"geometry\": {\n",
    "        \"$geoWithin\": { \n",
    "            \"$centerSphere\": [ \n",
    "                [ 114.04775137614286, 22.534939427320566 ], \n",
    "                0.0003508783432920873 \n",
    "            ]\n",
    "        }\n",
    "    }\n",
    "}\n",
    "projection = {\"_id\":0}\n",
    "\n",
    "points = {}\n",
    "points['type'] = 'FeatureCollection'\n",
    "points['features'] = []\n",
    "\n",
    "for t in taxi.find(query,projection):\n",
    "#     print(t)\n",
    "    points['features'].append(t)\n",
    "\n",
    "pp.pprint(len(points['features']))\n",
    "\n",
    "# save as geojson format\n",
    "with open('./GeojsonGraphData/filter_shenzhen_taxi.json', 'w') as outfile:  \n",
    "    json.dump(points,outfile, indent=4)"
   ]
  },
  {
   "cell_type": "code",
   "execution_count": 23,
   "metadata": {},
   "outputs": [],
   "source": [
    "import s2sphere as s2\n",
    "cellids = []\n",
    "for point in points['features']:\n",
    "    p = s2.LatLng.from_degrees(point['geometry']['coordinates'][1],point['geometry']['coordinates'][0])\n",
    "    cellid = s2.CellId.from_lat_lng(p).pos()\n",
    "    cellids.append(cellid)"
   ]
  },
  {
   "cell_type": "code",
   "execution_count": 24,
   "metadata": {},
   "outputs": [
    {
     "name": "stdout",
     "output_type": "stream",
     "text": [
      "[1442261585176609819, 1442261585208418481, 1442261585208418481, 1442261585208418481, 1442261585222704901, 1442261585225143525, 1442261585242053475, 1442261585254350837, 1442261585267655679, 1442261585296084857, 1442261585309607087, 1442261585319575383, 1442261585324466421, 1442261585340505639, 1442261585424493643, 1442261585446831825, 1442261585448047605, 1442261585450712113, 1442261585453159397, 1442261585482303201, 1442261585482659639, 1442261585483937121, 1442261585483937121, 1442261585490528515, 1442261585501498249, 1442261585502946297, 1442261585511123297, 1442261585513308313, 1442261585561693317, 1442261585576999189, 1442261585581166307, 1442261585587047175, 1442261585597704491, 1442261585622707703, 1442261585649712323, 1442261585649712323, 1442261585649712323, 1442261585649712323, 1442261585649712323, 1442261585649712323, 1442261585649712323, 1442261585649712323, 1442261585649712323, 1442261585652167869, 1442261585654756061, 1442261585655919013, 1442261585656633661, 1442261585675924371, 1442261585683162647, 1442261585685743965, 1442261585688861027, 1442261585689732801, 1442261585704469807, 1442261585707170485, 1442261585709188561, 1442261585711825097, 1442261585715566633, 1442261585717165167, 1442261585717165167, 1442261585717862991, 1442261585719509409, 1442261585719687757, 1442261585720245917, 1442261585721854483, 1442261585721910603, 1442261585723009629, 1442261585750115375, 1442261585751837547, 1442261585755302951, 1442261585791823103, 1442261585796160059, 1442261585800895947, 1442261585803596931, 1442261585815330179, 1442261585816498343, 1442261585818607367, 1442261585820149421, 1442261585828505783, 1442261585858083401, 1442261586113586693, 1442261586131529873, 1442261586134487289, 1442261586148475171, 1442261586149385343, 1442261618023008297, 1442261618716342247, 1442261619345939519, 1442261619802997267, 1442261619832090747, 1442261619833738051, 1442261620007904071, 1442261620037970247, 1442261620046691547, 1442261620293256037, 1442261620418291743, 1442261620463903147, 1442261620593365061, 1442261620661231633, 1442261620716069679]\n"
     ]
    }
   ],
   "source": [
    "%matplotlib inline\n",
    "import numpy as np\n",
    "import pandas as pd\n",
    "from scipy import stats, integrate\n",
    "import matplotlib.pyplot as plt\n",
    "import seaborn as sns\n",
    "sns.set(color_codes=True)\n"
   ]
  },
  {
   "cell_type": "code",
   "execution_count": 91,
   "metadata": {},
   "outputs": [
    {
     "name": "stdout",
     "output_type": "stream",
     "text": [
      "0.25    1.442262e+18\n",
      "0.50    1.442265e+18\n",
      "0.75    1.442265e+18\n",
      "Name: 0, dtype: float64\n",
      "1442267554269784887\n",
      "0.25    1.442262e+18\n",
      "0.50    1.442265e+18\n",
      "0.75    1.442265e+18\n",
      "Name: p1cellid, dtype: float64\n"
     ]
    },
    {
     "data": {
      "image/png": "[encoded data removed]",
      "text/plain": [
       "<matplotlib.figure.Figure at 0x1a2ea4e630>"
      ]
     },
     "metadata": {},
     "output_type": "display_data"
    }
   ],
   "source": [
    "dis_range = [1.44226448e+18, 1.44226471e+18]\n",
    "bins = 10000\n",
    "df = pd.DataFrame(cellids)\n",
    "print(df[0].quantile([0.25,0.5,0.75]))\n",
    "print(max(cellids))\n",
    "plt.figure(0)\n",
    "plt.subplot(121)\n",
    "plt.hist(cellids, bins=bins, range=dis_range)\n",
    "plt.ylim(0,100)\n",
    "\n",
    "data = pd.read_csv('./road_id.csv')\n",
    "data.columns = ['p1lng','p1lat','p1cellid','p2lng','p2lat','p2cellid']\n",
    "print(data.p1cellid.quantile([0.25,0.5,0.75]))\n",
    "plt.subplot(122)\n",
    "plt.hist(data.p1cellid, bins=bins, range=dis_range)\n",
    "plt.ylim(0,250)\n",
    "plt.show()"
   ]
  },
  {
   "cell_type": "code",
   "execution_count": 93,
   "metadata": {},
   "outputs": [
    {
     "name": "stdout",
     "output_type": "stream",
     "text": [
      "0.25    1.442262e+18\n",
      "0.50    1.442265e+18\n",
      "0.75    1.442265e+18\n",
      "Name: 0, dtype: float64\n",
      "1442267554269784887\n",
      "0.25    1.442262e+18\n",
      "0.50    1.442265e+18\n",
      "0.75    1.442265e+18\n",
      "Name: p1cellid, dtype: float64\n"
     ]
    },
    {
     "data": {
      "image/png": "[encoded data removed]",
      "text/plain": [
       "<matplotlib.figure.Figure at 0x1a2f082c18>"
      ]
     },
     "metadata": {},
     "output_type": "display_data"
    }
   ],
   "source": [
    "bins = 20\n",
    "dis_range = [1.44226448e+18, 1.44226471e+18]\n",
    "df = pd.DataFrame(cellids)\n",
    "print(df[0].quantile([0.25,0.5,0.75]))\n",
    "print(max(cellids))\n",
    "plt.figure(1)\n",
    "plt.subplot(121)\n",
    "plt.hist(cellids, bins=bins, range=dis_range)\n",
    "\n",
    "data = pd.read_csv('./road_id.csv')\n",
    "data.columns = ['p1lng','p1lat','p1cellid','p2lng','p2lat','p2cellid']\n",
    "print(data.p1cellid.quantile([0.25,0.5,0.75]))\n",
    "plt.subplot(122)\n",
    "plt.hist(data.p1cellid, bins=bins, range=dis_range)\n",
    "plt.show()\n"
   ]
  },
  {
   "cell_type": "code",
   "execution_count": 88,
   "metadata": {},
   "outputs": [
    {
     "data": {
      "image/png": "[encoded data removed]",
      "text/plain": [
       "<matplotlib.figure.Figure at 0x1a2af92278>"
      ]
     },
     "metadata": {},
     "output_type": "display_data"
    }
   ],
   "source": [
    "\n",
    "x1 = np.random.normal(0, 0.8, 1000)\n",
    "x2 = np.random.normal(-2, 1, 1000)\n",
    "x3 = np.random.normal(3, 2, 1000)\n",
    "\n",
    "kwargs = dict(histtype='stepfilled', alpha=0.3, normed=True, bins=40)\n",
    "\n",
    "plt.hist(x1, **kwargs)\n",
    "plt.hist(x2, **kwargs)\n",
    "plt.hist(x3, **kwargs);"
   ]
  },
  {
   "cell_type": "code",
   "execution_count": null,
   "metadata": {},
   "outputs": [],
   "source": []
  }
 ],
 "metadata": {
  "kernelspec": {
   "display_name": "Python 3",
   "language": "python",
   "name": "python3"
  },
  "language_info": {
   "codemirror_mode": {
    "name": "ipython",
    "version": 3
   },
   "file_extension": ".py",
   "mimetype": "text/x-python",
   "name": "python",
   "nbconvert_exporter": "python",
   "pygments_lexer": "ipython3",
   "version": "3.5.4"
  }
 },
 "nbformat": 4,
 "nbformat_minor": 2
}

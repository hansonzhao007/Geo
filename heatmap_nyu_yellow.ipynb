{
 "cells": [
  {
   "cell_type": "code",
   "execution_count": 1,
   "metadata": {},
   "outputs": [],
   "source": [
    "import folium\n",
    "from folium import plugins\n",
    "import pandas as pd\n",
    "import random"
   ]
  },
  {
   "cell_type": "code",
   "execution_count": 7,
   "metadata": {},
   "outputs": [
    {
     "name": "stdout",
     "output_type": "stream",
     "text": [
      "       VendorID tpep_pickup_datetime tpep_dropoff_datetime  passenger_count  \\\n",
      "40874         2  2015-12-10 22:21:53   2015-12-10 22:28:21                5   \n",
      "14436         2  2015-12-04 10:36:57   2015-12-04 10:46:17                6   \n",
      "32440         1  2015-12-08 21:02:43   2015-12-08 21:22:26                1   \n",
      "16869         1  2015-12-06 15:15:37   2015-12-06 15:22:39                1   \n",
      "42346         1  2015-12-11 07:47:53   2015-12-11 08:15:32                1   \n",
      "\n",
      "       trip_distance  pickup_longitude  pickup_latitude  RatecodeID  \\\n",
      "40874           0.93        -73.974762        40.762028           1   \n",
      "14436           0.98        -73.982254        40.762817           1   \n",
      "32440           3.30        -73.982071        40.778732           1   \n",
      "16869           1.20        -73.991127        40.749992           1   \n",
      "42346           4.90        -74.009705        40.721142           1   \n",
      "\n",
      "      store_and_fwd_flag  dropoff_longitude  dropoff_latitude  payment_type  \\\n",
      "40874                  N         -73.982819         40.751030             1   \n",
      "14436                  N         -73.978775         40.753376             1   \n",
      "32440                  N         -73.989342         40.742847             1   \n",
      "16869                  N         -73.983475         40.738617             1   \n",
      "42346                  N         -73.971161         40.759014             1   \n",
      "\n",
      "       fare_amount  extra  mta_tax  tip_amount  tolls_amount  \\\n",
      "40874          6.0    0.5      0.5        1.46           0.0   \n",
      "14436          7.5    0.0      0.5        1.66           0.0   \n",
      "32440         15.0    0.5      0.5        1.00           0.0   \n",
      "16869          7.0    0.0      0.5        1.95           0.0   \n",
      "42346         21.0    0.0      0.5        3.00           0.0   \n",
      "\n",
      "       improvement_surcharge  total_amount  \n",
      "40874                    0.3          8.76  \n",
      "14436                    0.3          9.96  \n",
      "32440                    0.3         17.30  \n",
      "16869                    0.3          9.75  \n",
      "42346                    0.3         24.80  \n",
      "<class 'pandas.core.frame.DataFrame'>\n",
      "RangeIndex: 50000 entries, 0 to 49999\n",
      "Data columns (total 19 columns):\n",
      "VendorID                 50000 non-null int64\n",
      "tpep_pickup_datetime     50000 non-null object\n",
      "tpep_dropoff_datetime    50000 non-null object\n",
      "passenger_count          50000 non-null int64\n",
      "trip_distance            50000 non-null float64\n",
      "pickup_longitude         50000 non-null float64\n",
      "pickup_latitude          50000 non-null float64\n",
      "RatecodeID               50000 non-null int64\n",
      "store_and_fwd_flag       50000 non-null object\n",
      "dropoff_longitude        50000 non-null float64\n",
      "dropoff_latitude         50000 non-null float64\n",
      "payment_type             50000 non-null int64\n",
      "fare_amount              50000 non-null float64\n",
      "extra                    50000 non-null float64\n",
      "mta_tax                  50000 non-null float64\n",
      "tip_amount               50000 non-null float64\n",
      "tolls_amount             50000 non-null float64\n",
      "improvement_surcharge    50000 non-null float64\n",
      "total_amount             50000 non-null float64\n",
      "dtypes: float64(12), int64(4), object(3)\n",
      "memory usage: 7.2+ MB\n"
     ]
    }
   ],
   "source": [
    "# http://www.nyc.gov/html/tlc/html/about/trip_record_data.shtml\n",
    "p = 0.01\n",
    "data = pd.read_csv('./yellow_tripdata_2015-12.csv', \n",
    "                   nrows=50000, \n",
    "                   skiprows=lambda i: i>0 and random.random() > p)\n",
    "\n",
    "print(data.sample(5))\n",
    "data.info()"
   ]
  },
  {
   "cell_type": "code",
   "execution_count": 9,
   "metadata": {
    "scrolled": true
   },
   "outputs": [],
   "source": [
    "# latitude, longitude\n",
    "location = [40.783939, -73.979752]\n",
    "data['pickup_latitude'] = data['pickup_latitude'].astype(float)\n",
    "data['pickup_longitude'] = data['pickup_longitude'].astype(float)\n",
    "\n",
    "heat_data = [[row['pickup_latitude'],row['pickup_longitude']] for index, row in data.iterrows()]\n",
    "\n",
    "m = folium.Map(location, zoom_start=11)\n",
    "heat_map = plugins.HeatMap(heat_data, \n",
    "                           radius = 7,\n",
    "                           min_opacity = 0.5,\n",
    "                           blur=15,\n",
    "                           #max_zoom=1\n",
    "                          )\n",
    "m.add_child(heat_map)\n",
    "m.save('nyu_yellow.html')"
   ]
  },
  {
   "cell_type": "code",
   "execution_count": 5,
   "metadata": {},
   "outputs": [
    {
     "data": {
      "text/plain": [
       "<folium.features.GeoJson at 0x11273e320>"
      ]
     },
     "execution_count": 5,
     "metadata": {},
     "output_type": "execute_result"
    }
   ],
   "source": [
    "# nyu_geo = r'GeojsonGraphData/NYU_yellow_road_node_edge.json'\n",
    "\n",
    "# #Let Folium determine the scale\n",
    "# folium.GeoJson(\n",
    "#     nyu_geo,\n",
    "#     name='geojson'\n",
    "# ).add_to(m)\n"
   ]
  },
  {
   "cell_type": "code",
   "execution_count": 6,
   "metadata": {},
   "outputs": [],
   "source": [
    "# m.save('nyu_heat_with_line.html')"
   ]
  },
  {
   "cell_type": "code",
   "execution_count": null,
   "metadata": {},
   "outputs": [],
   "source": []
  }
 ],
 "metadata": {
  "kernelspec": {
   "display_name": "Python 3",
   "language": "python",
   "name": "python3"
  },
  "language_info": {
   "codemirror_mode": {
    "name": "ipython",
    "version": 3
   },
   "file_extension": ".py",
   "mimetype": "text/x-python",
   "name": "python",
   "nbconvert_exporter": "python",
   "pygments_lexer": "ipython3",
   "version": "3.5.4"
  }
 },
 "nbformat": 4,
 "nbformat_minor": 2
}

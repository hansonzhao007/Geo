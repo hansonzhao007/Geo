{
 "cells": [
  {
   "cell_type": "code",
   "execution_count": 2,
   "metadata": {},
   "outputs": [],
   "source": [
    "import folium\n",
    "from folium import plugins\n",
    "import pandas as pd\n",
    "import random"
   ]
  },
  {
   "cell_type": "code",
   "execution_count": 3,
   "metadata": {},
   "outputs": [
    {
     "name": "stdout",
     "output_type": "stream",
     "text": [
      "      VendorID tpep_pickup_datetime tpep_dropoff_datetime  passenger_count  \\\n",
      "5138         2  2015-12-02 17:15:16   2015-12-02 17:43:53                1   \n",
      "8524         2  2015-12-03 13:58:56   2015-12-03 14:23:14                1   \n",
      "7587         2  2015-12-03 09:12:26   2015-12-03 09:22:05                2   \n",
      "641          2  2015-12-04 21:32:33   2015-12-04 22:19:15                1   \n",
      "6705         2  2015-12-03 00:04:32   2015-12-03 00:18:45                2   \n",
      "\n",
      "      trip_distance  pickup_longitude  pickup_latitude  RatecodeID  \\\n",
      "5138           2.26        -74.007637        40.743191           1   \n",
      "8524           1.55        -73.999992        40.745789           1   \n",
      "7587           1.30        -73.928314        40.769382           1   \n",
      "641           17.32        -73.788498        40.647404           2   \n",
      "6705           3.15        -73.996948        40.747139           1   \n",
      "\n",
      "     store_and_fwd_flag  dropoff_longitude  dropoff_latitude  payment_type  \\\n",
      "5138                  N         -73.979324         40.750420             1   \n",
      "8524                  N         -73.984169         40.761890             2   \n",
      "7587                  N         -73.942345         40.754162             1   \n",
      "641                   N         -73.985367         40.766960             1   \n",
      "6705                  N         -73.963348         40.774529             1   \n",
      "\n",
      "      fare_amount  extra  mta_tax  tip_amount  tolls_amount  \\\n",
      "5138         18.0    1.0      0.5        3.96           0.0   \n",
      "8524         15.0    0.0      0.5        0.00           0.0   \n",
      "7587          8.0    0.0      0.5        1.76           0.0   \n",
      "641          52.0    0.0      0.5       10.56           0.0   \n",
      "6705         12.5    0.5      0.5        3.45           0.0   \n",
      "\n",
      "      improvement_surcharge  total_amount  \n",
      "5138                    0.3         23.76  \n",
      "8524                    0.3         15.80  \n",
      "7587                    0.3         10.56  \n",
      "641                     0.3         63.36  \n",
      "6705                    0.3         17.25  \n",
      "<class 'pandas.core.frame.DataFrame'>\n",
      "RangeIndex: 10000 entries, 0 to 9999\n",
      "Data columns (total 19 columns):\n",
      "VendorID                 10000 non-null int64\n",
      "tpep_pickup_datetime     10000 non-null object\n",
      "tpep_dropoff_datetime    10000 non-null object\n",
      "passenger_count          10000 non-null int64\n",
      "trip_distance            10000 non-null float64\n",
      "pickup_longitude         10000 non-null float64\n",
      "pickup_latitude          10000 non-null float64\n",
      "RatecodeID               10000 non-null int64\n",
      "store_and_fwd_flag       10000 non-null object\n",
      "dropoff_longitude        10000 non-null float64\n",
      "dropoff_latitude         10000 non-null float64\n",
      "payment_type             10000 non-null int64\n",
      "fare_amount              10000 non-null float64\n",
      "extra                    10000 non-null float64\n",
      "mta_tax                  10000 non-null float64\n",
      "tip_amount               10000 non-null float64\n",
      "tolls_amount             10000 non-null float64\n",
      "improvement_surcharge    10000 non-null float64\n",
      "total_amount             10000 non-null float64\n",
      "dtypes: float64(12), int64(4), object(3)\n",
      "memory usage: 1.4+ MB\n"
     ]
    }
   ],
   "source": [
    "# http://www.nyc.gov/html/tlc/html/about/trip_record_data.shtml\n",
    "p = 0.01\n",
    "data = pd.read_csv('./yellow_tripdata_2015-12.csv', \n",
    "                   nrows=10000, \n",
    "                   skiprows=lambda i: i>0 and random.random() > p)\n",
    "\n",
    "print(data.sample(5))\n",
    "data.info()"
   ]
  },
  {
   "cell_type": "code",
   "execution_count": 4,
   "metadata": {},
   "outputs": [],
   "source": [
    "# latitude, longitude\n",
    "location = [40.783939, -73.979752]\n",
    "m = folium.Map(location,tiles='Stamen Toner', zoom_start=11)"
   ]
  },
  {
   "cell_type": "code",
   "execution_count": 5,
   "metadata": {},
   "outputs": [
    {
     "ename": "FileNotFoundError",
     "evalue": "[Errno 2] No such file or directory: 'GeojsonGraphData/split_edges.json'",
     "output_type": "error",
     "traceback": [
      "\u001b[0;31m---------------------------------------------------------------------------\u001b[0m",
      "\u001b[0;31mFileNotFoundError\u001b[0m                         Traceback (most recent call last)",
      "\u001b[0;32m<ipython-input-5-92dabaadeaab>\u001b[0m in \u001b[0;36m<module>\u001b[0;34m()\u001b[0m\n\u001b[1;32m      4\u001b[0m roads = folium.GeoJson(\n\u001b[1;32m      5\u001b[0m     \u001b[0mgeo\u001b[0m\u001b[0;34m,\u001b[0m\u001b[0;34m\u001b[0m\u001b[0m\n\u001b[0;32m----> 6\u001b[0;31m     style_function=lambda feature: {\n\u001b[0m\u001b[1;32m      7\u001b[0m         \u001b[0;34m'fillColor'\u001b[0m\u001b[0;34m:\u001b[0m \u001b[0;34m'#00ff00'\u001b[0m\u001b[0;34m,\u001b[0m\u001b[0;34m\u001b[0m\u001b[0m\n\u001b[1;32m      8\u001b[0m         \u001b[0;34m'color'\u001b[0m\u001b[0;34m:\u001b[0m \u001b[0;34m'black'\u001b[0m\u001b[0;34m,\u001b[0m\u001b[0;34m\u001b[0m\u001b[0m\n",
      "\u001b[0;32m~/anaconda3/lib/python3.5/site-packages/folium/features.py\u001b[0m in \u001b[0;36m__init__\u001b[0;34m(self, data, style_function, name, overlay, control, smooth_factor, highlight_function)\u001b[0m\n\u001b[1;32m    479\u001b[0m                 \u001b[0mself\u001b[0m\u001b[0;34m.\u001b[0m\u001b[0mdata\u001b[0m \u001b[0;34m=\u001b[0m \u001b[0mjson\u001b[0m\u001b[0;34m.\u001b[0m\u001b[0mloads\u001b[0m\u001b[0;34m(\u001b[0m\u001b[0mdata\u001b[0m\u001b[0;34m)\u001b[0m\u001b[0;34m\u001b[0m\u001b[0m\n\u001b[1;32m    480\u001b[0m             \u001b[0;32melse\u001b[0m\u001b[0;34m:\u001b[0m  \u001b[0;31m# This is a filename\u001b[0m\u001b[0;34m\u001b[0m\u001b[0m\n\u001b[0;32m--> 481\u001b[0;31m                 \u001b[0;32mwith\u001b[0m \u001b[0mopen\u001b[0m\u001b[0;34m(\u001b[0m\u001b[0mdata\u001b[0m\u001b[0;34m)\u001b[0m \u001b[0;32mas\u001b[0m \u001b[0mf\u001b[0m\u001b[0;34m:\u001b[0m\u001b[0;34m\u001b[0m\u001b[0m\n\u001b[0m\u001b[1;32m    482\u001b[0m                     \u001b[0mself\u001b[0m\u001b[0;34m.\u001b[0m\u001b[0mdata\u001b[0m \u001b[0;34m=\u001b[0m \u001b[0mjson\u001b[0m\u001b[0;34m.\u001b[0m\u001b[0mloads\u001b[0m\u001b[0;34m(\u001b[0m\u001b[0mf\u001b[0m\u001b[0;34m.\u001b[0m\u001b[0mread\u001b[0m\u001b[0;34m(\u001b[0m\u001b[0;34m)\u001b[0m\u001b[0;34m)\u001b[0m\u001b[0;34m\u001b[0m\u001b[0m\n\u001b[1;32m    483\u001b[0m         \u001b[0;32melif\u001b[0m \u001b[0mdata\u001b[0m\u001b[0;34m.\u001b[0m\u001b[0m__class__\u001b[0m\u001b[0;34m.\u001b[0m\u001b[0m__name__\u001b[0m \u001b[0;32min\u001b[0m \u001b[0;34m[\u001b[0m\u001b[0;34m'GeoDataFrame'\u001b[0m\u001b[0;34m,\u001b[0m \u001b[0;34m'GeoSeries'\u001b[0m\u001b[0;34m]\u001b[0m\u001b[0;34m:\u001b[0m\u001b[0;34m\u001b[0m\u001b[0m\n",
      "\u001b[0;31mFileNotFoundError\u001b[0m: [Errno 2] No such file or directory: 'GeojsonGraphData/split_edges.json'"
     ]
    }
   ],
   "source": [
    "geo = r'GeojsonGraphData/split_edges.json'\n",
    "\n",
    "#Let Folium determine the scale\n",
    "roads = folium.GeoJson(\n",
    "    geo,\n",
    "    style_function=lambda feature: {\n",
    "        'fillColor': '#00ff00',\n",
    "        'color': 'black',\n",
    "        'weight': 0.5,\n",
    "        'dashArray': '5, 5',\n",
    "        'fillOpacity': 0.5,\n",
    "    }\n",
    ")"
   ]
  },
  {
   "cell_type": "code",
   "execution_count": 7,
   "metadata": {},
   "outputs": [],
   "source": [
    "data['pickup_latitude'] = data['pickup_latitude'].astype(float)\n",
    "data['pickup_longitude'] = data['pickup_longitude'].astype(float)\n",
    "\n",
    "heat_data = [[row['pickup_latitude'],row['pickup_longitude']] for index, row in data.iterrows()]\n",
    "\n",
    "heat_map = plugins.HeatMap(heat_data, \n",
    "                           radius = 7,\n",
    "                           min_opacity = 0.5,\n",
    "                           blur=5,\n",
    "                           #max_zoom=1\n",
    "                          )\n",
    "m.add_child(heat_map)\n",
    "m.save('nyu.html')"
   ]
  },
  {
   "cell_type": "code",
   "execution_count": 28,
   "metadata": {},
   "outputs": [],
   "source": [
    "m.add_child(roads)\n",
    "m.save('nyu_with_roads.html')"
   ]
  },
  {
   "cell_type": "code",
   "execution_count": null,
   "metadata": {},
   "outputs": [],
   "source": []
  },
  {
   "cell_type": "code",
   "execution_count": null,
   "metadata": {},
   "outputs": [],
   "source": []
  }
 ],
 "metadata": {
  "kernelspec": {
   "display_name": "Python 3",
   "language": "python",
   "name": "python3"
  },
  "language_info": {
   "codemirror_mode": {
    "name": "ipython",
    "version": 3
   },
   "file_extension": ".py",
   "mimetype": "text/x-python",
   "name": "python",
   "nbconvert_exporter": "python",
   "pygments_lexer": "ipython3",
   "version": "3.5.4"
  }
 },
 "nbformat": 4,
 "nbformat_minor": 2
}

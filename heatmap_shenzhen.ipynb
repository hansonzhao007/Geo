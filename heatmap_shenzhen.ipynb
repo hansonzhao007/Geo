{
 "cells": [
  {
   "cell_type": "code",
   "execution_count": 23,
   "metadata": {},
   "outputs": [],
   "source": [
    "import folium\n",
    "from folium import plugins\n",
    "import pandas as pd\n",
    "import random"
   ]
  },
  {
   "cell_type": "code",
   "execution_count": 27,
   "metadata": {},
   "outputs": [
    {
     "name": "stdout",
     "output_type": "stream",
     "text": [
      "       Taxi_ID   Longitude   Latitude            Timestamp  Device_ID  \\\n",
      "11858  粤B3K1P1  114.027618  22.652117  2016-11-01 00:28:48    1590522   \n",
      "69211  粤B8HS69  114.033470  22.642767  2016-11-01 02:21:20    1372219   \n",
      "19250  粤BZ4P47  114.176430  22.636967  2016-11-01 00:42:29    1378070   \n",
      "5791   粤B4BX50  114.059998  22.561600  2016-11-01 00:17:14    1476543   \n",
      "43900  粤SJ131H  113.733452  22.985966  2016-11-01 01:30:57    1462410   \n",
      "36374  粤B8WJ06  114.234863  22.714649  2016-11-01 01:16:20    1426863   \n",
      "97203  粤B0K6P7  114.008583  22.650717  2016-11-01 03:18:29    1588202   \n",
      "96474  粤B0DR15  114.063118  22.532448  2016-11-01 03:16:59    1644801   \n",
      "60889  粤B6BY72  114.123299  22.562599  2016-11-01 02:02:53    1476646   \n",
      "10805  粤BZ0R47  114.154015  22.558500  2016-11-01 00:26:50    1343461   \n",
      "\n",
      "       Velocity  Orientation Taxi_Color  \n",
      "11858         9          135         蓝色  \n",
      "69211         0           12         蓝色  \n",
      "19250         0          116         蓝色  \n",
      "5791          0          256         蓝色  \n",
      "43900         0            0        NaN  \n",
      "36374         0           44         蓝色  \n",
      "97203         0            0         蓝色  \n",
      "96474        63          170         蓝色  \n",
      "60889         0            0         蓝色  \n",
      "10805        65          231         蓝色  \n"
     ]
    }
   ],
   "source": [
    "p = 0.01\n",
    "data = pd.read_csv('./GPS_2016_11_01', \n",
    "                   nrows=100000, \n",
    "                   skiprows=lambda i: i>0 and random.random() > p, header=None)\n",
    "drop_colums = [7,8,9,10,12]\n",
    "data.drop(data.columns[drop_colums],axis=1,inplace=True)\n",
    "data.columns = ['Taxi_ID','Longitude','Latitude','Timestamp','Device_ID','Velocity','Orientation','Taxi_Color']\n",
    "\n",
    "print(data.sample(10))\n"
   ]
  },
  {
   "cell_type": "code",
   "execution_count": 28,
   "metadata": {},
   "outputs": [],
   "source": [
    "# latitude, longitude\n",
    "location = [22.618864, 114.027283]"
   ]
  },
  {
   "cell_type": "code",
   "execution_count": 29,
   "metadata": {},
   "outputs": [],
   "source": [
    "data['Latitude'] = data['Latitude'].astype(float)\n",
    "data['Longitude'] = data['Longitude'].astype(float)\n",
    "\n",
    "heat_data = [[row['Latitude'],row['Longitude']] for index, row in data.iterrows()]\n",
    "\n",
    "m = folium.Map(location, zoom_start=11)\n",
    "heat_map = plugins.HeatMap(heat_data, \n",
    "                           radius = 7,\n",
    "                           min_opacity = 0.5,\n",
    "                           blur=15,\n",
    "                           #max_zoom=1\n",
    "                          )\n",
    "m.add_child(heat_map)\n",
    "m.save('shenzhen.html')"
   ]
  },
  {
   "cell_type": "code",
   "execution_count": null,
   "metadata": {},
   "outputs": [],
   "source": []
  },
  {
   "cell_type": "code",
   "execution_count": null,
   "metadata": {},
   "outputs": [],
   "source": []
  }
 ],
 "metadata": {
  "kernelspec": {
   "display_name": "Python 3",
   "language": "python",
   "name": "python3"
  },
  "language_info": {
   "codemirror_mode": {
    "name": "ipython",
    "version": 3
   },
   "file_extension": ".py",
   "mimetype": "text/x-python",
   "name": "python",
   "nbconvert_exporter": "python",
   "pygments_lexer": "ipython3",
   "version": "3.5.4"
  }
 },
 "nbformat": 4,
 "nbformat_minor": 2
}

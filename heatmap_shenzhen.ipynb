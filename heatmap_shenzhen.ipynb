{
 "cells": [
  {
   "cell_type": "code",
   "execution_count": 1,
   "metadata": {},
   "outputs": [],
   "source": [
    "import folium\n",
    "from folium import plugins\n",
    "import pandas as pd\n",
    "import random"
   ]
  },
  {
   "cell_type": "code",
   "execution_count": 2,
   "metadata": {},
   "outputs": [
    {
     "name": "stdout",
     "output_type": "stream",
     "text": [
      "    Taxi_ID   Longitude   Latitude            Timestamp  Device_ID  Velocity  \\\n",
      "0   粤B9B09X  113.878494  22.592752  2016-10-31 23:59:59    1687277         0   \n",
      "1   粤BW1P51  113.903030  22.557966  2016-11-01 00:00:00    1319229        42   \n",
      "2   粤B1U2G3  114.076187  22.549368  2016-11-01 00:00:01    1644511         0   \n",
      "3  粤B4L4K8黄   11.409980   2.260710  2016-10-31 23:58:48    1646137         0   \n",
      "4   粤B5A8A9  114.126137  22.548018  2016-10-31 23:59:59    1529684         0   \n",
      "5   粤SV114R  113.704353  23.013716  2016-11-01 00:00:01    1539088         0   \n",
      "6   粤B0VW30  113.919380  22.561571  2016-11-01 00:00:00    1644576        22   \n",
      "7   粤B245ZE  114.013603  22.664200  2016-10-31 23:59:50    1456689         5   \n",
      "8   粤B7CP06  114.089516  22.564449  2016-11-01 00:00:00    1346767         0   \n",
      "9   粤B4U0Y3  114.005508  22.686970  2016-11-01 00:00:00    1652284        94   \n",
      "\n",
      "   Orientation Taxi_Color  \n",
      "0          130         蓝色  \n",
      "1          135         蓝色  \n",
      "2          350         蓝色  \n",
      "3            0         黄色  \n",
      "4          225         蓝色  \n",
      "5            0        NaN  \n",
      "6          130         蓝色  \n",
      "7            0         蓝色  \n",
      "8            0         蓝色  \n",
      "9          100         黄色  \n"
     ]
    }
   ],
   "source": [
    "p = 0.01\n",
    "data = pd.read_csv('../s2/GPS_2016_11_01', \n",
    "                   nrows=10000, \n",
    "#                    skiprows=lambda i: i>0 and random.random() > p, header=None\n",
    "                  )\n",
    "drop_colums = [7,8,9,10,12]\n",
    "data.drop(data.columns[drop_colums],axis=1,inplace=True)\n",
    "data.columns = ['Taxi_ID','Longitude','Latitude','Timestamp','Device_ID','Velocity','Orientation','Taxi_Color']\n",
    "\n",
    "print(data.head(10))\n"
   ]
  },
  {
   "cell_type": "code",
   "execution_count": 8,
   "metadata": {},
   "outputs": [],
   "source": [
    "# latitude, longitude\n",
    "location = [22.618864, 114.027283]\n",
    "m = folium.Map(location, zoom_start=11)"
   ]
  },
  {
   "cell_type": "code",
   "execution_count": 14,
   "metadata": {},
   "outputs": [],
   "source": [
    "geo = r'GeojsonGraphData/shenzhen_nodes_ways_relations.json'\n",
    "\n",
    "#Let Folium determine the scale\n",
    "roads = folium.GeoJson(\n",
    "    geo,\n",
    "    name='geojson'\n",
    ")"
   ]
  },
  {
   "cell_type": "code",
   "execution_count": 9,
   "metadata": {},
   "outputs": [],
   "source": [
    "data['Latitude'] = data['Latitude'].astype(float)\n",
    "data['Longitude'] = data['Longitude'].astype(float)\n",
    "\n",
    "heat_data = [[row['Latitude'],row['Longitude']] for index, row in data.iterrows()]\n",
    "\n",
    "\n",
    "heat_map = plugins.HeatMap(heat_data, \n",
    "                           radius = 7,\n",
    "                           min_opacity = 0.5,\n",
    "                           blur=15,\n",
    "                           #max_zoom=1\n",
    "                          )\n",
    "m.add_child(heat_map)\n",
    "\n",
    "m.save('shenzhen.html')\n"
   ]
  },
  {
   "cell_type": "code",
   "execution_count": 5,
   "metadata": {},
   "outputs": [
    {
     "ename": "NameError",
     "evalue": "name 'roads' is not defined",
     "output_type": "error",
     "traceback": [
      "\u001b[0;31m---------------------------------------------------------------------------\u001b[0m",
      "\u001b[0;31mNameError\u001b[0m                                 Traceback (most recent call last)",
      "\u001b[0;32m<ipython-input-5-dc14ff2174ec>\u001b[0m in \u001b[0;36m<module>\u001b[0;34m()\u001b[0m\n\u001b[0;32m----> 1\u001b[0;31m \u001b[0mm\u001b[0m\u001b[0;34m.\u001b[0m\u001b[0madd_child\u001b[0m\u001b[0;34m(\u001b[0m\u001b[0mroads\u001b[0m\u001b[0;34m)\u001b[0m\u001b[0;34m\u001b[0m\u001b[0m\n\u001b[0m\u001b[1;32m      2\u001b[0m \u001b[0mm\u001b[0m\u001b[0;34m.\u001b[0m\u001b[0msave\u001b[0m\u001b[0;34m(\u001b[0m\u001b[0;34m'shenzhen_with_roads.html'\u001b[0m\u001b[0;34m)\u001b[0m\u001b[0;34m\u001b[0m\u001b[0m\n",
      "\u001b[0;31mNameError\u001b[0m: name 'roads' is not defined"
     ]
    }
   ],
   "source": [
    "m.add_child(roads)\n",
    "m.save('shenzhen_with_roads.html')"
   ]
  },
  {
   "cell_type": "code",
   "execution_count": 10,
   "metadata": {
    "scrolled": true
   },
   "outputs": [
    {
     "data": {
      "text/plain": [
       "Taxi_ID        17\n",
       "Longitude      17\n",
       "Latitude       17\n",
       "Timestamp      17\n",
       "Device_ID      17\n",
       "Velocity       17\n",
       "Orientation    17\n",
       "Taxi_Color     17\n",
       "dtype: int64"
      ]
     },
     "execution_count": 10,
     "metadata": {},
     "output_type": "execute_result"
    }
   ],
   "source": [
    "leveldb_res = pd.read_csv('./leveldb_res.csv')\n",
    "leveldb_res.head()\n",
    "drop_colums = [7,8,9,10,12,13]\n",
    "leveldb_res.drop(leveldb_res.columns[drop_colums],axis=1,inplace=True)\n",
    "leveldb_res.columns = ['Taxi_ID','Longitude','Latitude','Timestamp','Device_ID','Velocity','Orientation','Taxi_Color']\n",
    "leveldb_res.count()"
   ]
  },
  {
   "cell_type": "code",
   "execution_count": 11,
   "metadata": {},
   "outputs": [],
   "source": [
    "locations = leveldb_res[['Latitude', 'Longitude']]\n",
    "locationlist = locations.values.tolist()\n",
    "for point in range(0, len(locationlist)):\n",
    "    folium.Marker(\n",
    "        locationlist[point], \n",
    "         popup=leveldb_res.iloc[[point]].Taxi_ID.item()\n",
    "    ).add_to(m)\n",
    "m.save('shenzhen.html')"
   ]
  },
  {
   "cell_type": "code",
   "execution_count": 21,
   "metadata": {},
   "outputs": [
    {
     "data": {
      "text/plain": [
       "'粤B7BU65'"
      ]
     },
     "execution_count": 21,
     "metadata": {},
     "output_type": "execute_result"
    }
   ],
   "source": [
    "\n"
   ]
  },
  {
   "cell_type": "code",
   "execution_count": null,
   "metadata": {},
   "outputs": [],
   "source": []
  }
 ],
 "metadata": {
  "kernelspec": {
   "display_name": "Python 3",
   "language": "python",
   "name": "python3"
  },
  "language_info": {
   "codemirror_mode": {
    "name": "ipython",
    "version": 3
   },
   "file_extension": ".py",
   "mimetype": "text/x-python",
   "name": "python",
   "nbconvert_exporter": "python",
   "pygments_lexer": "ipython3",
   "version": "3.5.4"
  }
 },
 "nbformat": 4,
 "nbformat_minor": 2
}

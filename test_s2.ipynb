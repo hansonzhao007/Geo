{
 "cells": [
  {
   "cell_type": "code",
   "execution_count": 3,
   "metadata": {},
   "outputs": [
    {
     "name": "stdout",
     "output_type": "stream",
     "text": [
      "(5, 714030452, 697903187, 2)\n",
      "1229010085479602495\n"
     ]
    }
   ],
   "source": [
    "import s2sphere as s2\n",
    "\n",
    "r = s2.RegionCoverer()\n",
    "p1 = s2.LatLng.from_degrees(-71,48.1)\n",
    "id1 = s2.CellId.from_lat_lng(p1)\n",
    "print(id1.to_face_ij_orientation())\n",
    "print(id1.pos())\n"
   ]
  },
  {
   "cell_type": "code",
   "execution_count": null,
   "metadata": {},
   "outputs": [],
   "source": []
  }
 ],
 "metadata": {
  "kernelspec": {
   "display_name": "Python 3",
   "language": "python",
   "name": "python3"
  },
  "language_info": {
   "codemirror_mode": {
    "name": "ipython",
    "version": 3
   },
   "file_extension": ".py",
   "mimetype": "text/x-python",
   "name": "python",
   "nbconvert_exporter": "python",
   "pygments_lexer": "ipython3",
   "version": "3.5.4"
  }
 },
 "nbformat": 4,
 "nbformat_minor": 2
}
